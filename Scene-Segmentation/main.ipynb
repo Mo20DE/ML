{
 "cells": [
  {
   "cell_type": "markdown",
   "id": "5ade700e-1f9a-4268-a809-4f829ce411c8",
   "metadata": {},
   "source": [
    "# Exercise 5: Scene-Dependent Image Segmentation\n",
    "\n",
    "The goal of this homework is to implement a model that seperates foreground and background objects for a specific scene.  \n",
    "We will use the highway scene from the Change Detection dataset:  \n",
    "http://jacarini.dinf.usherbrooke.ca/dataset2014#\n",
    "\n",
    "![input image](highway/input/in001600.jpg \"Title\") ![gt image](highway/groundtruth/gt001600.png \"Title\")"
   ]
  },
  {
   "cell_type": "markdown",
   "id": "ea8b5923-78bb-48e7-8db6-79b35b79b942",
   "metadata": {},
   "source": [
    "## Task 1: Create a custom (Pytorch) dataset\n",
    "\n",
    "\n",
    "https://pytorch.org/tutorials/beginner/basics/data_tutorial.html\n",
    "You need to create a class that inherets from **from torch.utils.data.Dataset** and implements two methods:\n",
    "- **def \\_\\_len\\_\\_(self)**:  returns the length of the dataset\n",
    "- **def \\_\\_getitem\\_\\_(self, idx)**: given an integer idx returns the data x,y\n",
    "    - x is the image as a float tensor of shape: $(3,H,W)$ \n",
    "    - y is the label image as a mask of shape: $(H,W)$ each pixel should contain the label 0 (background) or 1 (foreground). It is recommended to use the type torch.long\n",
    "    \n",
    "**Tips**:\n",
    "- The first 470 images are not labeled. Just ignore these images. \n",
    "- If possible load all images into memory or even directly to GPU to increase speed.\n",
    "- You can change the resolution to fit your model or your memory\n",
    "- Add data augmentation to increase the data size and model robustness"
   ]
  },
  {
   "cell_type": "code",
   "execution_count": 1,
   "id": "1ce6bd17",
   "metadata": {
    "execution": {
     "iopub.execute_input": "2025-06-25T10:32:41.201593Z",
     "iopub.status.busy": "2025-06-25T10:32:41.201364Z",
     "iopub.status.idle": "2025-06-25T10:32:51.750544Z",
     "shell.execute_reply": "2025-06-25T10:32:51.749768Z",
     "shell.execute_reply.started": "2025-06-25T10:32:41.201575Z"
    }
   },
   "outputs": [],
   "source": [
    "import torch\n",
    "import torch.nn as nn\n",
    "import torch.nn.functional as F\n",
    "from torch.optim.lr_scheduler import StepLR\n",
    "from torchvision.transforms import transforms\n",
    "from torch.utils.data import Dataset, DataLoader, random_split\n",
    "\n",
    "from sklearn.metrics import accuracy_score, precision_score, recall_score, jaccard_score\n",
    "import matplotlib.pyplot as plt\n",
    "\n",
    "import glob\n",
    "from PIL import Image\n",
    "import gdown\n",
    "import os"
   ]
  },
  {
   "cell_type": "code",
   "execution_count": 2,
   "id": "e8dd0c40",
   "metadata": {
    "execution": {
     "iopub.execute_input": "2025-06-25T10:33:03.215539Z",
     "iopub.status.busy": "2025-06-25T10:33:03.215267Z",
     "iopub.status.idle": "2025-06-25T10:33:03.221412Z",
     "shell.execute_reply": "2025-06-25T10:33:03.220643Z",
     "shell.execute_reply.started": "2025-06-25T10:33:03.215518Z"
    }
   },
   "outputs": [],
   "source": [
    "class ChangeDetectionDataset(Dataset):\n",
    "\n",
    "    def __init__(self, root_dir, transform=None):\n",
    "\n",
    "        self.root_dir = root_dir\n",
    "        self.transform = transform\n",
    "        if not transform:\n",
    "            self.transform = transforms.Compose([\n",
    "                transforms.Resize((240, 240)),\n",
    "                transforms.ToTensor()\n",
    "            ])\n",
    "        \n",
    "        self.imgs = sorted(glob.glob(root_dir + \"input/*.jpg\"))\n",
    "        self.imgs = [self.transform(Image.open(img)) for img in self.imgs]\n",
    "        self.gts = sorted(glob.glob(root_dir + \"groundtruth/*.png\"))\n",
    "        self.gts = [(self.transform(Image.open(gt)) > 0).squeeze(dim=0).long() for gt in self.gts]\n",
    "\n",
    "    def __getitem__(self, idx):\n",
    "        img = self.imgs[idx]\n",
    "        gt = self.gts[idx]\n",
    "        return img, gt\n",
    "    \n",
    "    def __len__(self):\n",
    "        return len(self.imgs)"
   ]
  },
  {
   "cell_type": "markdown",
   "id": "0e120eb7-0349-4bb0-b305-23a0f3bb5e26",
   "metadata": {},
   "source": [
    "## Task 2: Create a custom Segmentation Model\n",
    "\n",
    "- input: a batch of images $(B,3,H,W)$ \n",
    "- output: a batch of pixel-wise class predictions $(B,C,H,W)$, where $C=2$\n",
    "\n",
    "Tips:\n",
    "- It is recommended to use a Fully-Convolutional Neural Network, because it flexible to the input and output resolution.\n",
    "- Use Residual Blocks with convolutional layers.\n",
    "- Base your model on established segmentation models:\n",
    "    - U-Net: https://arxiv.org/abs/1505.04597\n",
    "    - Deeplab: https://arxiv.org/abs/1606.00915"
   ]
  },
  {
   "cell_type": "code",
   "execution_count": 4,
   "id": "cfb2baa6",
   "metadata": {
    "execution": {
     "iopub.execute_input": "2025-06-25T10:33:07.080998Z",
     "iopub.status.busy": "2025-06-25T10:33:07.080492Z",
     "iopub.status.idle": "2025-06-25T10:33:33.871250Z",
     "shell.execute_reply": "2025-06-25T10:33:33.870596Z",
     "shell.execute_reply.started": "2025-06-25T10:33:07.080974Z"
    }
   },
   "outputs": [
    {
     "data": {
      "text/plain": [
       "(985, 246)"
      ]
     },
     "execution_count": 4,
     "metadata": {},
     "output_type": "execute_result"
    }
   ],
   "source": [
    "# load dataset\n",
    "root_dir = \"highway/\"\n",
    "complete_dataset = ChangeDetectionDataset(root_dir)\n",
    "# split dataset (80/20)\n",
    "generator = torch.Generator().manual_seed(42)\n",
    "X_train, X_test = random_split(complete_dataset, [0.8, 0.2], generator=generator)\n",
    "len(X_train), len(X_test)"
   ]
  },
  {
   "cell_type": "code",
   "execution_count": 5,
   "id": "a91a8f77",
   "metadata": {
    "execution": {
     "iopub.execute_input": "2025-06-25T10:33:41.330586Z",
     "iopub.status.busy": "2025-06-25T10:33:41.329924Z",
     "iopub.status.idle": "2025-06-25T10:33:41.336197Z",
     "shell.execute_reply": "2025-06-25T10:33:41.335429Z",
     "shell.execute_reply.started": "2025-06-25T10:33:41.330562Z"
    }
   },
   "outputs": [],
   "source": [
    "class ConvLayer(nn.Module):\n",
    "\n",
    "    def __init__(self, \n",
    "        in_channels, \n",
    "        out_channels, \n",
    "        kernel_size=3,\n",
    "        stride=1,\n",
    "        padding=0,\n",
    "        batch_norm=False\n",
    "    ):\n",
    "        super(ConvLayer, self).__init__()\n",
    "        self.conv = nn.Conv2d(\n",
    "            in_channels, \n",
    "            out_channels, \n",
    "            kernel_size=kernel_size,\n",
    "            stride=stride, \n",
    "            padding=padding\n",
    "        )\n",
    "        self.bn = nn.BatchNorm2d(out_channels) if batch_norm else None\n",
    "        self.relu = nn.ReLU(inplace=True)\n",
    "\n",
    "    def forward(self, x):\n",
    "        x = self.bn(self.conv(x)) if self.bn else self.conv(x)\n",
    "        x = self.relu(x)\n",
    "        return x\n",
    "\n",
    "def createConvSequential(\n",
    "    in_channels,\n",
    "    out_channels,\n",
    "    kernel_size=3,\n",
    "    stride=1,\n",
    "    padding=1,\n",
    "    batch_norm=True\n",
    "):\n",
    "    conv_sequential = nn.Sequential(\n",
    "        ConvLayer(in_channels, out_channels, kernel_size, stride, padding, batch_norm),\n",
    "        ConvLayer(out_channels, out_channels, kernel_size, stride, padding, batch_norm)\n",
    "    )\n",
    "    return conv_sequential"
   ]
  },
  {
   "cell_type": "code",
   "execution_count": 6,
   "id": "891fa30e",
   "metadata": {
    "execution": {
     "iopub.execute_input": "2025-06-25T10:33:43.404603Z",
     "iopub.status.busy": "2025-06-25T10:33:43.404340Z",
     "iopub.status.idle": "2025-06-25T10:33:43.413923Z",
     "shell.execute_reply": "2025-06-25T10:33:43.413370Z",
     "shell.execute_reply.started": "2025-06-25T10:33:43.404583Z"
    }
   },
   "outputs": [],
   "source": [
    "class UNet(nn.Module):\n",
    "\n",
    "    def __init__(self, in_channels, num_classes):\n",
    "        super(UNet, self).__init__()\n",
    "        self.in_channels = in_channels\n",
    "        self.num_classes = num_classes\n",
    "        # used channels\n",
    "        self.ch1 = 64\n",
    "        self.ch2 = 128\n",
    "        self.ch3 = 256\n",
    "        self.ch4 = 512\n",
    "        self.ch5 = 1024\n",
    "        # downsampling conv-layers\n",
    "        self.ds1 = createConvSequential(self.in_channels, self.ch1)\n",
    "        self.ds2 = createConvSequential(self.ch1, self.ch2)\n",
    "        self.ds3 = createConvSequential(self.ch2, self.ch3)\n",
    "        self.ds4 = createConvSequential(self.ch3, self.ch4)\n",
    "        # bottleneck\n",
    "        self.ds5 = createConvSequential(self.ch4, self.ch5)\n",
    "        # upsampling conv-layers\n",
    "        self.us1 = createConvSequential(self.ch5, self.ch4)\n",
    "        self.us2 = createConvSequential(self.ch4, self.ch3)\n",
    "        self.us3 = createConvSequential(self.ch3, self.ch2)\n",
    "        self.us4 = createConvSequential(self.ch2, self.ch1)\n",
    "        # modules for chanaging channel sizes\n",
    "        self.max_pool = nn.MaxPool2d(kernel_size=2, stride=2)\n",
    "        self.trans_conv1 = nn.ConvTranspose2d(self.ch5, self.ch4, kernel_size=2, stride=2)\n",
    "        self.trans_conv2 = nn.ConvTranspose2d(self.ch4, self.ch3, kernel_size=2, stride=2)\n",
    "        self.trans_conv3 = nn.ConvTranspose2d(self.ch3, self.ch2, kernel_size=2, stride=2)\n",
    "        self.trans_conv4 = nn.ConvTranspose2d(self.ch2, self.ch1, kernel_size=2, stride=2)\n",
    "        self.last_conv = nn.Conv2d(self.ch1, self.num_classes, kernel_size=1) # creates fore- and background masks\n",
    "    \n",
    "    def forward(self, x):\n",
    "        \n",
    "        # downsampling path\n",
    "        ds_res1 = self.ds1(x)\n",
    "        x = self.max_pool(ds_res1)\n",
    "\n",
    "        ds_res2 = self.ds2(x)\n",
    "        x = self.max_pool(ds_res2)\n",
    "\n",
    "        ds_res3 = self.ds3(x)\n",
    "        x = self.max_pool(ds_res3)\n",
    "\n",
    "        ds_res4 = self.ds4(x)\n",
    "        x = self.max_pool(ds_res4)\n",
    "\n",
    "        # bottleneck\n",
    "        x = self.ds5(x)\n",
    "\n",
    "        # upsampling path\n",
    "        x = self.trans_conv1(x)\n",
    "        x = torch.concatenate((ds_res4, x), dim=1)\n",
    "        x = self.us1(x)\n",
    "\n",
    "        x = self.trans_conv2(x)\n",
    "        x = torch.concatenate((ds_res3, x), dim=1)\n",
    "        x = self.us2(x)\n",
    "\n",
    "        x = self.trans_conv3(x)\n",
    "        x = torch.concatenate((ds_res2, x), dim=1)\n",
    "        x = self.us3(x)\n",
    "\n",
    "        x = self.trans_conv4(x)\n",
    "        x = torch.concatenate((ds_res1, x), dim=1)\n",
    "        x = self.us4(x)\n",
    "        \n",
    "        x = self.last_conv(x)\n",
    "        return x"
   ]
  },
  {
   "cell_type": "markdown",
   "id": "a85364b0-7010-4710-9373-94a89db8d7c5",
   "metadata": {},
   "source": [
    "## Task 3: Create a training loop\n",
    "- split data into training and test data, e.g. 80% training data and 20% test data using your custom dataset.\n",
    "- Create a Dataloader for your custom datasets \n",
    "- Define a training loop for a single epoch:\n",
    "    - forward pass\n",
    "    - Loss function, e.g. cross entropy\n",
    "    - optimizer \n",
    "    - backward pass\n",
    "    - logging\n",
    "- Define validation loop:\n",
    "    - forward pass\n",
    "    - extract binary labels, e.g. threshold or argmax for each pixel.\n",
    "    - compute evaluation metrics: Accuracy, Precision, Recall and Intersection over Union for each image"
   ]
  },
  {
   "cell_type": "code",
   "execution_count": 7,
   "id": "72fb59ca",
   "metadata": {
    "execution": {
     "iopub.execute_input": "2025-06-25T10:34:36.504381Z",
     "iopub.status.busy": "2025-06-25T10:34:36.503664Z",
     "iopub.status.idle": "2025-06-25T10:34:36.509593Z",
     "shell.execute_reply": "2025-06-25T10:34:36.508968Z",
     "shell.execute_reply.started": "2025-06-25T10:34:36.504356Z"
    }
   },
   "outputs": [],
   "source": [
    "def train_model(\n",
    "    model, \n",
    "    device,\n",
    "    train_loader,\n",
    "    test_loader,\n",
    "    train_func,\n",
    "    test_func,\n",
    "    lr=0.001, \n",
    "    step_size=10, \n",
    "    gamma=0.1, \n",
    "    epochs=10,\n",
    "    **additional_params\n",
    "):\n",
    "    train_params = additional_params.pop(\"train_params\", {})\n",
    "    test_params = additional_params.pop(\"test_params\", {})\n",
    "    \n",
    "    train_losses, test_losses = [], []\n",
    "    optimizer = torch.optim.AdamW(model.parameters(), lr=lr)\n",
    "    scheduler = StepLR(optimizer, step_size=step_size, gamma=gamma)\n",
    "    \n",
    "    for epoch in range(1, epochs + 1):\n",
    "        train_loss = train_func(model, device, train_loader, optimizer, epoch, **train_params)\n",
    "        test_loss = test_func(model, device, test_loader, epoch, **test_params)\n",
    "        train_losses.append(train_loss)\n",
    "        test_losses.append(test_loss)\n",
    "        scheduler.step()\n",
    "\n",
    "    return train_losses, test_losses"
   ]
  },
  {
   "cell_type": "code",
   "execution_count": 8,
   "id": "c2281fa6",
   "metadata": {
    "execution": {
     "iopub.execute_input": "2025-06-25T10:34:38.643692Z",
     "iopub.status.busy": "2025-06-25T10:34:38.642905Z",
     "iopub.status.idle": "2025-06-25T10:34:38.656013Z",
     "shell.execute_reply": "2025-06-25T10:34:38.655218Z",
     "shell.execute_reply.started": "2025-06-25T10:34:38.643661Z"
    }
   },
   "outputs": [],
   "source": [
    "def train_segmentation_model(\n",
    "    model, \n",
    "    device, \n",
    "    train_loader, \n",
    "    optimizer, \n",
    "    epoch\n",
    "):\n",
    "    model.train()\n",
    "    train_loss = 0.\n",
    "    total_pixel = 0\n",
    "    for batch_idx, (data, target) in enumerate(train_loader):\n",
    "        # load images and masks to gpu\n",
    "        data = data.to(device)\n",
    "        target = target.to(device)\n",
    "        optimizer.zero_grad()\n",
    "        output = model(data)\n",
    "        loss = F.cross_entropy(output, target)\n",
    "        loss.backward()\n",
    "        optimizer.step()\n",
    "        train_loss += F.cross_entropy(output, target, reduction=\"sum\").item()\n",
    "        total_pixel += target.numel()\n",
    "\n",
    "        if batch_idx % 10 == 0:\n",
    "            data_processed_so_far = batch_idx * len(data)\n",
    "            total_data = len(train_loader.dataset)\n",
    "            progress = 100. * batch_idx / len(train_loader)\n",
    "            \n",
    "            print(\"Train Epoch {}: [{}/{} ({:.0f}%)]\\tLoss: {:.6f}\".format(\n",
    "                epoch, data_processed_so_far, total_data, progress, loss.item()\n",
    "            ), end=\"\\r\")\n",
    "            \n",
    "    train_loss /= total_pixel\n",
    "    return train_loss\n",
    "\n",
    "\n",
    "def test_segmentation_model(\n",
    "    model, \n",
    "    device, \n",
    "    test_loader, \n",
    "    epoch\n",
    "):\n",
    "    model.eval()\n",
    "    all_targets = []\n",
    "    all_preds = []\n",
    "    test_loss = 0.\n",
    "    total_pixel = 0\n",
    "    with torch.no_grad():\n",
    "        for data, target in test_loader:\n",
    "            data = data.to(device)\n",
    "            target = target.to(device)\n",
    "            output = model(data)\n",
    "            # process target and predicition\n",
    "            pred = output.argmax(dim=1)\n",
    "            test_loss += F.cross_entropy(output, target, reduction=\"sum\").item()\n",
    "            total_pixel += target.numel()\n",
    "            all_targets.append(target.flatten().cpu())\n",
    "            all_preds.append(pred.flatten().cpu())\n",
    "\n",
    "    # compute accuracy, precision, recall, IoU\n",
    "    test_loss /= total_pixel\n",
    "    y_true = torch.cat(all_targets)\n",
    "    y_pred = torch.cat(all_preds)\n",
    "    accuracy = accuracy_score(y_true, y_pred)\n",
    "    precision = precision_score(y_true, y_pred, zero_division=0)\n",
    "    recall = recall_score(y_true, y_pred, zero_division=0)\n",
    "    IoU = jaccard_score(y_true, y_pred, zero_division=0)\n",
    "\n",
    "    print(\"Test Set (Epoch {}): Avg. Test-Loss: {:.2f}\\tAccuracy: {:.2f}\\tPrecision: {:.2f}\\tRecall: {:.2f}\\tIoU: {:.2f}\".format(\n",
    "        epoch, test_loss, accuracy, precision, recall, IoU, 80 * \" \"\n",
    "    ))\n",
    "    return test_loss"
   ]
  },
  {
   "cell_type": "code",
   "execution_count": 27,
   "id": "b5b684dd",
   "metadata": {},
   "outputs": [],
   "source": [
    "# IF FLAG IS SET, LOAD PRE-TRAINED MODEL FROM THE CLOUD\n",
    "load_pre_trained_unet_from_cloud = True\n",
    "\n",
    "# hyperparameters\n",
    "batch_size = 32\n",
    "in_channels = 3\n",
    "num_classes = 2\n",
    "step_size = 5\n",
    "epochs = 10\n",
    "\n",
    "device = torch.device(\"cuda\" if torch.cuda.is_available() else \"cpu\")\n",
    "# create training and train loader\n",
    "train_loader = DataLoader(X_train, batch_size=batch_size)\n",
    "test_loader = DataLoader(X_test, batch_size=batch_size)"
   ]
  },
  {
   "cell_type": "code",
   "execution_count": null,
   "id": "8e18a781",
   "metadata": {
    "execution": {
     "iopub.execute_input": "2025-06-25T10:35:14.798109Z",
     "iopub.status.busy": "2025-06-25T10:35:14.797421Z",
     "iopub.status.idle": "2025-06-25T10:48:29.260087Z",
     "shell.execute_reply": "2025-06-25T10:48:29.259399Z",
     "shell.execute_reply.started": "2025-06-25T10:35:14.798087Z"
    }
   },
   "outputs": [
    {
     "name": "stdout",
     "output_type": "stream",
     "text": [
      "Training is running with: cuda\n",
      "Test Set (Epoch 1): Avg. Test-Loss: 0.22\tAccuracy: 0.93\tPrecision: 1.00\tRecall: 0.16\tIoU: 0.16\n",
      "Test Set (Epoch 2): Avg. Test-Loss: 0.30\tAccuracy: 0.89\tPrecision: 0.43\tRecall: 0.98\tIoU: 0.42\n",
      "Test Set (Epoch 3): Avg. Test-Loss: 0.03\tAccuracy: 0.99\tPrecision: 0.99\tRecall: 0.93\tIoU: 0.92\n",
      "Test Set (Epoch 4): Avg. Test-Loss: 0.02\tAccuracy: 1.00\tPrecision: 0.99\tRecall: 0.95\tIoU: 0.94\n",
      "Test Set (Epoch 5): Avg. Test-Loss: 0.03\tAccuracy: 0.99\tPrecision: 0.92\tRecall: 0.97\tIoU: 0.90\n",
      "Test Set (Epoch 6): Avg. Test-Loss: 0.02\tAccuracy: 1.00\tPrecision: 0.98\tRecall: 0.97\tIoU: 0.95\n",
      "Test Set (Epoch 7): Avg. Test-Loss: 0.02\tAccuracy: 1.00\tPrecision: 0.98\tRecall: 0.97\tIoU: 0.95\n",
      "Test Set (Epoch 8): Avg. Test-Loss: 0.02\tAccuracy: 1.00\tPrecision: 0.98\tRecall: 0.97\tIoU: 0.96\n",
      "Test Set (Epoch 9): Avg. Test-Loss: 0.02\tAccuracy: 1.00\tPrecision: 0.98\tRecall: 0.97\tIoU: 0.96\n",
      "Test Set (Epoch 10): Avg. Test-Loss: 0.01\tAccuracy: 1.00\tPrecision: 0.98\tRecall: 0.97\tIoU: 0.96\n"
     ]
    }
   ],
   "source": [
    "# run training (if flag not set)\n",
    "if not load_pre_trained_unet_from_cloud:\n",
    "    print(f\"Training is running with: {device}\")\n",
    "    unet_model = UNet(in_channels, num_classes).to(device)\n",
    "    train_losses, test_losses = train_model(\n",
    "        unet_model,\n",
    "        device,\n",
    "        train_loader,\n",
    "        test_loader,\n",
    "        train_segmentation_model,\n",
    "        test_segmentation_model,\n",
    "        step_size=step_size,\n",
    "        epochs=epochs\n",
    "    )"
   ]
  },
  {
   "cell_type": "code",
   "execution_count": 28,
   "id": "8fb7a490-888a-4952-924e-ecfa5c7a2865",
   "metadata": {
    "execution": {
     "iopub.execute_input": "2025-06-25T10:49:53.719551Z",
     "iopub.status.busy": "2025-06-25T10:49:53.718915Z",
     "iopub.status.idle": "2025-06-25T10:49:54.439279Z",
     "shell.execute_reply": "2025-06-25T10:49:54.438560Z",
     "shell.execute_reply.started": "2025-06-25T10:49:53.719520Z"
    }
   },
   "outputs": [],
   "source": [
    "# save model (if flag not set)\n",
    "model_path = \"models/unet_model.pth\"\n",
    "if not load_pre_trained_unet_from_cloud:\n",
    "    os.makedirs(os.path.dirname(model_path), exist_ok=True)\n",
    "    torch.save(unet_model.state_dict(), model_path)"
   ]
  },
  {
   "cell_type": "markdown",
   "id": "83e603ff-a32e-4d90-84d9-eba8570d6e63",
   "metadata": {},
   "source": [
    "## Task 4: Small Report of your model and training\n",
    "- visualize training and test error over each epoch\n",
    "- report the evaluation metrics of the final model"
   ]
  },
  {
   "cell_type": "code",
   "execution_count": null,
   "id": "51bba1a8-65e9-463f-aa68-bdf9c6e95044",
   "metadata": {
    "execution": {
     "iopub.execute_input": "2025-06-25T11:07:05.849795Z",
     "iopub.status.busy": "2025-06-25T11:07:05.849202Z",
     "iopub.status.idle": "2025-06-25T11:07:06.160415Z",
     "shell.execute_reply": "2025-06-25T11:07:06.159769Z",
     "shell.execute_reply.started": "2025-06-25T11:07:05.849774Z"
    }
   },
   "outputs": [
    {
     "data": {
      "text/plain": [
       "UNet(\n",
       "  (ds1): Sequential(\n",
       "    (0): ConvLayer(\n",
       "      (conv): Conv2d(3, 64, kernel_size=(3, 3), stride=(1, 1), padding=(1, 1))\n",
       "      (bn): BatchNorm2d(64, eps=1e-05, momentum=0.1, affine=True, track_running_stats=True)\n",
       "      (relu): ReLU(inplace=True)\n",
       "    )\n",
       "    (1): ConvLayer(\n",
       "      (conv): Conv2d(64, 64, kernel_size=(3, 3), stride=(1, 1), padding=(1, 1))\n",
       "      (bn): BatchNorm2d(64, eps=1e-05, momentum=0.1, affine=True, track_running_stats=True)\n",
       "      (relu): ReLU(inplace=True)\n",
       "    )\n",
       "  )\n",
       "  (ds2): Sequential(\n",
       "    (0): ConvLayer(\n",
       "      (conv): Conv2d(64, 128, kernel_size=(3, 3), stride=(1, 1), padding=(1, 1))\n",
       "      (bn): BatchNorm2d(128, eps=1e-05, momentum=0.1, affine=True, track_running_stats=True)\n",
       "      (relu): ReLU(inplace=True)\n",
       "    )\n",
       "    (1): ConvLayer(\n",
       "      (conv): Conv2d(128, 128, kernel_size=(3, 3), stride=(1, 1), padding=(1, 1))\n",
       "      (bn): BatchNorm2d(128, eps=1e-05, momentum=0.1, affine=True, track_running_stats=True)\n",
       "      (relu): ReLU(inplace=True)\n",
       "    )\n",
       "  )\n",
       "  (ds3): Sequential(\n",
       "    (0): ConvLayer(\n",
       "      (conv): Conv2d(128, 256, kernel_size=(3, 3), stride=(1, 1), padding=(1, 1))\n",
       "      (bn): BatchNorm2d(256, eps=1e-05, momentum=0.1, affine=True, track_running_stats=True)\n",
       "      (relu): ReLU(inplace=True)\n",
       "    )\n",
       "    (1): ConvLayer(\n",
       "      (conv): Conv2d(256, 256, kernel_size=(3, 3), stride=(1, 1), padding=(1, 1))\n",
       "      (bn): BatchNorm2d(256, eps=1e-05, momentum=0.1, affine=True, track_running_stats=True)\n",
       "      (relu): ReLU(inplace=True)\n",
       "    )\n",
       "  )\n",
       "  (ds4): Sequential(\n",
       "    (0): ConvLayer(\n",
       "      (conv): Conv2d(256, 512, kernel_size=(3, 3), stride=(1, 1), padding=(1, 1))\n",
       "      (bn): BatchNorm2d(512, eps=1e-05, momentum=0.1, affine=True, track_running_stats=True)\n",
       "      (relu): ReLU(inplace=True)\n",
       "    )\n",
       "    (1): ConvLayer(\n",
       "      (conv): Conv2d(512, 512, kernel_size=(3, 3), stride=(1, 1), padding=(1, 1))\n",
       "      (bn): BatchNorm2d(512, eps=1e-05, momentum=0.1, affine=True, track_running_stats=True)\n",
       "      (relu): ReLU(inplace=True)\n",
       "    )\n",
       "  )\n",
       "  (ds5): Sequential(\n",
       "    (0): ConvLayer(\n",
       "      (conv): Conv2d(512, 1024, kernel_size=(3, 3), stride=(1, 1), padding=(1, 1))\n",
       "      (bn): BatchNorm2d(1024, eps=1e-05, momentum=0.1, affine=True, track_running_stats=True)\n",
       "      (relu): ReLU(inplace=True)\n",
       "    )\n",
       "    (1): ConvLayer(\n",
       "      (conv): Conv2d(1024, 1024, kernel_size=(3, 3), stride=(1, 1), padding=(1, 1))\n",
       "      (bn): BatchNorm2d(1024, eps=1e-05, momentum=0.1, affine=True, track_running_stats=True)\n",
       "      (relu): ReLU(inplace=True)\n",
       "    )\n",
       "  )\n",
       "  (us1): Sequential(\n",
       "    (0): ConvLayer(\n",
       "      (conv): Conv2d(1024, 512, kernel_size=(3, 3), stride=(1, 1), padding=(1, 1))\n",
       "      (bn): BatchNorm2d(512, eps=1e-05, momentum=0.1, affine=True, track_running_stats=True)\n",
       "      (relu): ReLU(inplace=True)\n",
       "    )\n",
       "    (1): ConvLayer(\n",
       "      (conv): Conv2d(512, 512, kernel_size=(3, 3), stride=(1, 1), padding=(1, 1))\n",
       "      (bn): BatchNorm2d(512, eps=1e-05, momentum=0.1, affine=True, track_running_stats=True)\n",
       "      (relu): ReLU(inplace=True)\n",
       "    )\n",
       "  )\n",
       "  (us2): Sequential(\n",
       "    (0): ConvLayer(\n",
       "      (conv): Conv2d(512, 256, kernel_size=(3, 3), stride=(1, 1), padding=(1, 1))\n",
       "      (bn): BatchNorm2d(256, eps=1e-05, momentum=0.1, affine=True, track_running_stats=True)\n",
       "      (relu): ReLU(inplace=True)\n",
       "    )\n",
       "    (1): ConvLayer(\n",
       "      (conv): Conv2d(256, 256, kernel_size=(3, 3), stride=(1, 1), padding=(1, 1))\n",
       "      (bn): BatchNorm2d(256, eps=1e-05, momentum=0.1, affine=True, track_running_stats=True)\n",
       "      (relu): ReLU(inplace=True)\n",
       "    )\n",
       "  )\n",
       "  (us3): Sequential(\n",
       "    (0): ConvLayer(\n",
       "      (conv): Conv2d(256, 128, kernel_size=(3, 3), stride=(1, 1), padding=(1, 1))\n",
       "      (bn): BatchNorm2d(128, eps=1e-05, momentum=0.1, affine=True, track_running_stats=True)\n",
       "      (relu): ReLU(inplace=True)\n",
       "    )\n",
       "    (1): ConvLayer(\n",
       "      (conv): Conv2d(128, 128, kernel_size=(3, 3), stride=(1, 1), padding=(1, 1))\n",
       "      (bn): BatchNorm2d(128, eps=1e-05, momentum=0.1, affine=True, track_running_stats=True)\n",
       "      (relu): ReLU(inplace=True)\n",
       "    )\n",
       "  )\n",
       "  (us4): Sequential(\n",
       "    (0): ConvLayer(\n",
       "      (conv): Conv2d(128, 64, kernel_size=(3, 3), stride=(1, 1), padding=(1, 1))\n",
       "      (bn): BatchNorm2d(64, eps=1e-05, momentum=0.1, affine=True, track_running_stats=True)\n",
       "      (relu): ReLU(inplace=True)\n",
       "    )\n",
       "    (1): ConvLayer(\n",
       "      (conv): Conv2d(64, 64, kernel_size=(3, 3), stride=(1, 1), padding=(1, 1))\n",
       "      (bn): BatchNorm2d(64, eps=1e-05, momentum=0.1, affine=True, track_running_stats=True)\n",
       "      (relu): ReLU(inplace=True)\n",
       "    )\n",
       "  )\n",
       "  (max_pool): MaxPool2d(kernel_size=2, stride=2, padding=0, dilation=1, ceil_mode=False)\n",
       "  (trans_conv1): ConvTranspose2d(1024, 512, kernel_size=(2, 2), stride=(2, 2))\n",
       "  (trans_conv2): ConvTranspose2d(512, 256, kernel_size=(2, 2), stride=(2, 2))\n",
       "  (trans_conv3): ConvTranspose2d(256, 128, kernel_size=(2, 2), stride=(2, 2))\n",
       "  (trans_conv4): ConvTranspose2d(128, 64, kernel_size=(2, 2), stride=(2, 2))\n",
       "  (last_conv): Conv2d(64, 2, kernel_size=(1, 1), stride=(1, 1))\n",
       ")"
      ]
     },
     "execution_count": 33,
     "metadata": {},
     "output_type": "execute_result"
    }
   ],
   "source": [
    "# (download and) load model \n",
    "trained_unet = UNet(in_channels, num_classes)\n",
    "if load_pre_trained_unet_from_cloud and not os.path.exists(model_path):\n",
    "    model_url = \"https://drive.google.com/drive/folders/1s_vETe9HEFHvSkT4hwRZh34_dHgBclBz?usp=sharing\"\n",
    "    gdown.download_folder(model_url, quiet=True)\n",
    "\n",
    "trained_unet.load_state_dict(torch.load(model_path, map_location=device, weights_only=True))\n",
    "trained_unet.eval()"
   ]
  },
  {
   "cell_type": "code",
   "execution_count": 34,
   "id": "dad213f8-31d9-4d07-807f-e72348dbb8e4",
   "metadata": {
    "execution": {
     "iopub.execute_input": "2025-06-25T11:07:11.870485Z",
     "iopub.status.busy": "2025-06-25T11:07:11.870219Z",
     "iopub.status.idle": "2025-06-25T11:07:11.874661Z",
     "shell.execute_reply": "2025-06-25T11:07:11.874079Z",
     "shell.execute_reply.started": "2025-06-25T11:07:11.870466Z"
    }
   },
   "outputs": [],
   "source": [
    "def plot_comparision(gt, pred):\n",
    "    plt.figure()\n",
    "    plt.subplot(1, 2, 1)\n",
    "    plt.imshow(gt, cmap=\"gray\")\n",
    "    plt.axis(\"off\")\n",
    "    plt.title(\"Ground Truth\")\n",
    "    plt.subplot(1, 2, 2)\n",
    "    plt.imshow(pred, cmap=\"gray\")\n",
    "    plt.axis(\"off\")\n",
    "    plt.title(\"Predicted Mask\")"
   ]
  },
  {
   "cell_type": "code",
   "execution_count": 35,
   "id": "55c9470d-a32f-4b89-9b29-a6273aacd5a6",
   "metadata": {
    "execution": {
     "iopub.execute_input": "2025-06-25T11:07:13.303342Z",
     "iopub.status.busy": "2025-06-25T11:07:13.303072Z",
     "iopub.status.idle": "2025-06-25T11:07:14.129528Z",
     "shell.execute_reply": "2025-06-25T11:07:14.128578Z",
     "shell.execute_reply.started": "2025-06-25T11:07:13.303324Z"
    }
   },
   "outputs": [
    {
     "data": {
      "image/png": "[encoded data removed]",
      "text/plain": [
       "<Figure size 640x480 with 2 Axes>"
      ]
     },
     "metadata": {},
     "output_type": "display_data"
    }
   ],
   "source": [
    "idx = 0\n",
    "imgs, gts = next(iter(test_loader)) # get first batch\n",
    "img, gt = imgs[idx].unsqueeze(dim=0), (gts[idx] > 0).squeeze(dim=0).long()\n",
    "output = trained_unet(img).argmax(dim=1).squeeze(dim=0)\n",
    "plot_comparision(gt, output)"
   ]
  },
  {
   "cell_type": "code",
   "execution_count": 31,
   "id": "ca056fe3-863b-4c1a-b26e-1f1c241bcb38",
   "metadata": {
    "execution": {
     "iopub.execute_input": "2025-06-25T11:07:15.349442Z",
     "iopub.status.busy": "2025-06-25T11:07:15.349187Z",
     "iopub.status.idle": "2025-06-25T11:07:15.477699Z",
     "shell.execute_reply": "2025-06-25T11:07:15.477042Z",
     "shell.execute_reply.started": "2025-06-25T11:07:15.349425Z"
    }
   },
   "outputs": [
    {
     "data": {
      "image/png": "[encoded data removed]",
      "text/plain": [
       "<Figure size 640x480 with 1 Axes>"
      ]
     },
     "metadata": {},
     "output_type": "display_data"
    }
   ],
   "source": [
    "epochs = 10\n",
    "x = torch.arange(1, epochs + 1)\n",
    "\n",
    "plt.plot(x, train_losses, label=\"Train Error\")\n",
    "plt.plot(x, test_losses, label=\"Test Error\")\n",
    "plt.xlabel(\"Epochs\")\n",
    "plt.ylabel(\"Error\")\n",
    "plt.legend()\n",
    "plt.show()"
   ]
  },
  {
   "cell_type": "code",
   "execution_count": 36,
   "id": "50dc87ed-d280-49b0-80fe-8cfa69ca3305",
   "metadata": {
    "execution": {
     "iopub.execute_input": "2025-06-25T11:10:55.130590Z",
     "iopub.status.busy": "2025-06-25T11:10:55.130322Z",
     "iopub.status.idle": "2025-06-25T11:11:53.065848Z",
     "shell.execute_reply": "2025-06-25T11:11:53.065069Z",
     "shell.execute_reply.started": "2025-06-25T11:10:55.130571Z"
    }
   },
   "outputs": [
    {
     "name": "stdout",
     "output_type": "stream",
     "text": [
      "Test Set (Epoch -): Avg. Test-Loss: 0.01\tAccuracy: 1.00\tPrecision: 0.98\tRecall: 0.97\tIoU: 0.96\n"
     ]
    }
   ],
   "source": [
    "final_test = test_segmentation_model(trained_unet.to(device), device, test_loader, \"-\")"
   ]
  },
  {
   "cell_type": "markdown",
   "id": "18d528f5-e41c-49fd-b089-d734395e9645",
   "metadata": {},
   "source": [
    "### Conclusion:\n",
    "As the results show the model converges and attains high accuracy as well as solid IoU."
   ]
  }
 ],
 "metadata": {
  "kaggle": {
   "accelerator": "gpu",
   "dataSources": [
    {
     "datasetId": 7723584,
     "sourceId": 12257164,
     "sourceType": "datasetVersion"
    }
   ],
   "dockerImageVersionId": 31040,
   "isGpuEnabled": true,
   "isInternetEnabled": true,
   "language": "python",
   "sourceType": "notebook"
  },
  "kernelspec": {
   "display_name": "3.11.5",
   "language": "python",
   "name": "python3"
  },
  "language_info": {
   "codemirror_mode": {
    "name": "ipython",
    "version": 3
   },
   "file_extension": ".py",
   "mimetype": "text/x-python",
   "name": "python",
   "nbconvert_exporter": "python",
   "pygments_lexer": "ipython3",
   "version": "3.11.5"
  }
 },
 "nbformat": 4,
 "nbformat_minor": 5
}
